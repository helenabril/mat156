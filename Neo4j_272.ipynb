{
  "nbformat": 4,
  "nbformat_minor": 0,
  "metadata": {
    "colab": {
      "provenance": [],
      "authorship_tag": "ABX9TyPGNyX1w7/l4nAJ6WVpTFqT",
      "include_colab_link": true
    },
    "kernelspec": {
      "name": "python3",
      "display_name": "Python 3"
    },
    "language_info": {
      "name": "python"
    }
  },
  "cells": [
    {
      "cell_type": "markdown",
      "metadata": {
        "id": "view-in-github",
        "colab_type": "text"
      },
      "source": [
        "<a href=\"https://colab.research.google.com/github/helenabril/mat156/blob/main/Neo4j_272.ipynb\" target=\"_parent\"><img src=\"https://colab.research.google.com/assets/colab-badge.svg\" alt=\"Open In Colab\"/></a>"
      ]
    },
    {
      "cell_type": "markdown",
      "source": [
        "# Instalar"
      ],
      "metadata": {
        "id": "kGzqziPwXCze"
      }
    },
    {
      "cell_type": "code",
      "source": [
        "!pip install -q py2neo"
      ],
      "metadata": {
        "id": "Va12LXfZWyQM"
      },
      "execution_count": null,
      "outputs": []
    },
    {
      "cell_type": "markdown",
      "source": [
        "# Imports"
      ],
      "metadata": {
        "id": "aniCfKbeXLCD"
      }
    },
    {
      "cell_type": "code",
      "execution_count": 3,
      "metadata": {
        "id": "iFQggUNlWgnu"
      },
      "outputs": [],
      "source": [
        "from py2neo import Graph\n",
        "from py2neo import Node\n",
        "from py2neo import Relationship\n",
        "import pandas as pd"
      ]
    },
    {
      "cell_type": "markdown",
      "source": [
        "# Establecer conexión"
      ],
      "metadata": {
        "id": "YoHkji8aXeOd"
      }
    },
    {
      "cell_type": "code",
      "source": [
        "graph = Graph(\"bolt://44.201.11.102:7687\",\n",
        "              user=\"neo4j\",\n",
        "              password=\"abrasive-thin-tastes\")"
      ],
      "metadata": {
        "id": "izFDPM_aXmTT"
      },
      "execution_count": 4,
      "outputs": []
    },
    {
      "cell_type": "markdown",
      "source": [
        "# Nodos: Redes Sociales"
      ],
      "metadata": {
        "id": "ga9NHkJOYMV-"
      }
    },
    {
      "cell_type": "code",
      "source": [
        "Instagram = Node(\"Social_Media\", title=\"Instagram\", tagline=\"Capture and Share the World's Moments\")\n",
        "Facebook = Node(\"Social_Media\",  title=\"Facebook\", tagline=\"It's quick and easy\")\n",
        "WhatsApp = Node(\"Social_Media\",  title=\"WhatsApp\", tagline=\"Hey there, I am using WhatsApp\")\n",
        "SnapChat = Node(\"Social_Media\", title=\"SnapChat\", tagline=\"THe fastest way to share a moment\")\n",
        "Youtube = Node(\"Social_Media\", title=\"Youtube\", tagline=\"Broadcast Yourself\")\n",
        "Twitter = Node(\"Social_Media\", title=\"Twitter\", tagline=\"Here, your voice matters\")\n",
        "LinkedIn = Node(\"Social_Media\", title=\"LinkedIn\", tagline=\"Sum up your Professional brand\")"
      ],
      "metadata": {
        "id": "DIDfuEBEYWbe"
      },
      "execution_count": 5,
      "outputs": []
    },
    {
      "cell_type": "markdown",
      "source": [
        "# Nodos: Usuarios"
      ],
      "metadata": {
        "id": "tooXMnZOYgBV"
      }
    },
    {
      "cell_type": "code",
      "source": [
        "Chandler = Node(\"Person\", name=\"Chandler Bing\", dob=1968, country=\"USA\", sex=\"Male\")\n",
        "Rachel = Node(\"Person\", name=\"Rachel Green\", dob=1969, country=\"USA\", sex=\"Female\")\n",
        "Joey = Node(\"Person\", name=\"Joey Tribbiani\", dob=1967, country=\"USA\", sex=\"Male\")\n",
        "Ross = Node(\"Person\", name=\"Ross Geller\", dob=1967, country=\"USA\", sex=\"Male\")\n",
        "Monica = Node(\"Person\", name=\"Monica Geller\", dob=1967, country=\"USA\", sex=\"Female\")\n",
        "Phoebe = Node(\"Person\", name=\"Phoebe Buffay\", dob=1971, country=\"USA\", sex=\"Female\")\n",
        "\n",
        "Abhijit = Node(\"Person\", name=\"Abhijit Singh \", dob=1980, country=\"India\", sex=\"Male\")\n",
        "ACP = Node(\"Person\", name=\"ACP Pradyuman \", dob=1960, country=\"India\", sex=\"Male\")\n",
        "Tarika = Node(\"Person\", name=\"DR Tarika \", dob=1986, country=\"India\", sex=\"Female\")\n",
        "Purvi = Node(\"Person\", name=\"Purvi Sayed \", dob=1988, country=\"India\", sex=\"Female\")\n",
        "Shreya = Node(\"Person\", name=\"Shreya Chedda\", dob=1985, country=\"India\", sex=\"Female\")\n",
        "Salunkhe = Node(\"Person\", name=\"Dr R.P. Salunkhe \", dob=1965, country=\"India\", sex=\"Male\")\n",
        "Fredricks = Node(\"Person\", name=\"Fredricks \", dob=1975, country=\"India\", sex=\"Male\")\n",
        "Sachin = Node(\"Person\", name=\"Inspector Sachin\", dob=1987, country=\"India\", sex=\"Male\")\n",
        "Nikhil = Node(\"Person\", name=\"Inspector Nikhil \", dob=1990, country=\"India\", sex=\"Male\")\n",
        "\n",
        "Bagha = Node(\"Person\", name=\"Bagha\", dob=2001, country=\"India\", sex=\"Male\")\n",
        "Peg = Node(\"Person\", name=\"Peg Legge\", dob=2006, country=\"India\", sex=\"Male\")\n",
        "Isabelle = Node(\"Person\", name=\"Isabelle Ringing\", dob=2005, country=\"India\", sex=\"Female\")\n",
        "Anne = Node(\"Person\", name=\"Anne Teak\", dob=2001, country=\"USA\", sex=\"Female\")\n",
        "Rose = Node(\"Person\", name=\"Rose Bush\", dob=1998, country=\"USA\", sex=\"Female\")\n",
        "Melody = Node(\"Person\", name=\"Melody Sunshine\", dob=1999, country=\"USA\", sex=\"Male\")\n",
        "Chew = Node(\"Person\", name=\"Chew Mee \", dob=1999, country=\"USA\", sex=\"Male\")"
      ],
      "metadata": {
        "id": "liWH8zDpY188"
      },
      "execution_count": 6,
      "outputs": []
    },
    {
      "cell_type": "markdown",
      "source": [
        "# Almacenamiento de nodos en gráficos"
      ],
      "metadata": {
        "id": "9YtLQg0cZDDV"
      }
    },
    {
      "cell_type": "code",
      "source": [
        "graph.create(Instagram | Facebook | WhatsApp | SnapChat\n",
        "             | Youtube | Twitter | LinkedIn)"
      ],
      "metadata": {
        "id": "MH0U1mWSZLvw"
      },
      "execution_count": 7,
      "outputs": []
    },
    {
      "cell_type": "code",
      "source": [
        "graph.create(Chandler | Rachel | Joey | Ross | Monica | Phoebe\n",
        "             | Bagha | Peg | Isabelle | Anne | Rose | Melody\n",
        "             | Chew | Abhijit | ACP | Tarika |Purvi | Shreya\n",
        "             | Salunkhe | Fredricks | Sachin | Nikhil)"
      ],
      "metadata": {
        "id": "VzO-pj5LZSc0"
      },
      "execution_count": 8,
      "outputs": []
    },
    {
      "cell_type": "markdown",
      "source": [
        "# Crear relación entre nodos de redes sociales y nodos de usuario"
      ],
      "metadata": {
        "id": "SUNBOs_QZnkG"
      }
    },
    {
      "cell_type": "code",
      "source": [
        "graph.create(Relationship(Joey, \"Uses\", SnapChat, joinedyear=2014, screentime=47, rating=3))\n",
        "graph.create(Relationship(Ross, \"Uses\", LinkedIn, joinedyear=2010, screentime=64, rating=5))\n",
        "graph.create(Relationship(Ross, \"Uses\", Twitter, joinedyear=2013, screentime=60, rating=4.6))\n",
        "graph.create(Relationship(Monica, \"Uses\", Facebook, joinedyear=2019, screentime=97, rating=4.5))\n",
        "graph.create(Relationship(Phoebe, \"Uses\", Facebook, joinedyear=2018, screentime=20, rating=3))\n",
        "graph.create(Relationship(Bagha, \"Uses\", Facebook, joinedyear=2016, screentime=69, rating=4.9))\n",
        "graph.create(Relationship(Peg, \"Uses\", Facebook, joinedyear=2013, screentime=94, rating=1))\n",
        "graph.create(Relationship(Peg, \"Uses\", LinkedIn, joinedyear=2011, screentime=34, rating=4.8))\n",
        "graph.create(Relationship(Isabelle, \"Uses\", Youtube, joinedyear=2008, screentime=104, rating=4.6))\n",
        "graph.create(Relationship(Isabelle, \"Uses\", Twitter, joinedyear=2016, screentime=24, rating=1.8))\n",
        "graph.create(Relationship(Isabelle, \"Uses\", Instagram, joinedyear = 2014, screentime = 120, rating = 4.8))\n",
        "graph.create(Relationship(Anne, \"Uses\", Youtube, joinedyear=2009, screentime=14, rating=5))\n",
        "graph.create(Relationship(Anne, \"Uses\", SnapChat, joinedyear=2013, screentime=36, rating=3.8))\n",
        "graph.create(Relationship(Anne, \"Uses\", LinkedIn, joinedyear=2017, screentime=20, rating=4))\n",
        "graph.create(Relationship(Chandler, \"Uses\", Facebook, joinedyear=2016, screentime=30, rating=2))\n",
        "graph.create(Relationship(Chandler, \"Uses\", WhatsApp, joinedyear=2016, screentime=70, rating=3))\n",
        "graph.create(Relationship(Chandler, \"Uses\", Instagram, joinedyear=2012, screentime=150, rating=4.9))\n",
        "graph.create(Relationship(Rachel, \"Uses\", WhatsApp, joinedyear=2018, screentime=100, rating=4))\n",
        "\n",
        "graph.create(Relationship(Phoebe, \"Uses\", WhatsApp, joinedyear=2010, screentime=25, rating=5))\n",
        "graph.create(Relationship(Rachel, \"Uses\", WhatsApp, joinedyear=2011, screentime=10, rating=4))\n",
        "graph.create(Relationship(Bagha, \"Uses\", WhatsApp, joinedyear=2012, screentime=15, rating=5))\n",
        "graph.create(Relationship(Monica, \"Uses\", WhatsApp, joinedyear=2013, screentime=30, rating=4))\n",
        "graph.create(Relationship(Peg, \"Uses\", WhatsApp, joinedyear=2014, screentime=35, rating=5))\n",
        "graph.create(Relationship(Ross, \"Uses\", WhatsApp, joinedyear=2015, screentime=40, rating=4))\n",
        "graph.create(Relationship(Isabelle, \"Uses\", WhatsApp, joinedyear=2016, screentime=45, rating=5))\n",
        "graph.create(Relationship(Anne, \"Uses\", WhatsApp, joinedyear=2017, screentime=50, rating=4))\n",
        "graph.create(Relationship(Joey, \"Uses\", WhatsApp, joinedyear=2018, screentime=55, rating=5))\n",
        "\n",
        "graph.create(Relationship(Abhijit, \"Uses\", Instagram, joinedyear=2018, screentime=80, rating=5))\n",
        "graph.create(Relationship(ACP, \"Uses\", Twitter, joinedyear=2014, screentime=20, rating=3))\n",
        "graph.create(Relationship(Tarika, \"Uses\", Instagram, joinedyear=2015, screentime=130, rating=4))\n",
        "graph.create(Relationship(Purvi, \"Uses\", Instagram, joinedyear=2017, screentime=100, rating=4))\n",
        "graph.create(Relationship(Shreya, \"Uses\", Instagram, joinedyear=2018, screentime=40, rating=4))\n",
        "graph.create(Relationship(Salunkhe, \"Uses\", LinkedIn, joinedyear=2019, screentime=10, rating=3))\n",
        "graph.create(Relationship(Fredricks, \"Uses\", Youtube, joinedyear=2013, screentime=30, rating=3))\n",
        "graph.create(Relationship(Sachin, \"Uses\", Youtube, joinedyear=2010, screentime=40, rating=4))\n",
        "graph.create(Relationship(Nikhil, \"Uses\", Instagram, joinedyear=2012, screentime=50, rating=5))\n",
        "\n",
        "graph.create(Relationship(Rachel, \"Uses\", Facebook, joinedyear=2017, screentime=43, rating=2))\n",
        "graph.create(Relationship(Rose, \"Uses\", Twitter, joinedyear=2012, screentime=84, rating=4))\n",
        "graph.create(Relationship(Rose, \"Uses\", LinkedIn, joinedyear=2014, screentime=134, rating=1))\n",
        "graph.create(Relationship(Rose, \"Uses\", Youtube, joinedyear=2014, screentime=64, rating=4.8))\n",
        "graph.create(Relationship(Melody, \"Uses\", Twitter, joinedyear=2010, screentime=54, rating=2.9))\n",
        "graph.create(Relationship(Melody, \"Uses\", SnapChat, joinedyear=2015, screentime=76, rating=3.8))\n",
        "graph.create(Relationship(Melody, \"Uses\", WhatsApp, joinedyear=2019, screentime=87, rating=2.6))\n",
        "graph.create(Relationship(Chew, \"Uses\", Facebook, joinedyear=2017, screentime=29, rating=4.9))\n",
        "graph.create(Relationship(Chew, \"Uses\", SnapChat, joinedyear=2018, screentime=48, rating=2.8))\n",
        "graph.create(Relationship(Chew, \"Uses\", WhatsApp, joinedyear=2009, screentime=86, rating=1.6))"
      ],
      "metadata": {
        "id": "tRW1yvTOZwYc"
      },
      "execution_count": 9,
      "outputs": []
    },
    {
      "cell_type": "markdown",
      "source": [
        "# 1. ¿Qué plataforma de redes sociales tiene la mayor cantidad de usuarios? (5 primeros)"
      ],
      "metadata": {
        "id": "zY3RsZJpaUug"
      }
    },
    {
      "cell_type": "code",
      "source": [
        "query1 = \"\"\"\n",
        "MATCH (p:Person)-[]->(s:Social_Media)\n",
        "RETURN s.title, COUNT(*) AS Users\n",
        "ORDER BY Users DESC\n",
        "LIMIT 5\n",
        "\"\"\"\n",
        "\n",
        "result1 = graph.run(query1)\n",
        "for d in result1:\n",
        "    print(d)"
      ],
      "metadata": {
        "id": "Plv9Zm_vaYrY"
      },
      "execution_count": null,
      "outputs": []
    },
    {
      "cell_type": "markdown",
      "source": [
        "# 2. ¿Qué plataforma tiene la calificación más alta?"
      ],
      "metadata": {
        "id": "RT2AvQ1caw3t"
      }
    },
    {
      "cell_type": "code",
      "source": [
        "query2 = \"\"\"\n",
        "MATCH (p:Person)-[r]->(s:Social_Media)\n",
        "RETURN s.title AS Title, AVG(r.rating) AS Rating\n",
        "ORDER BY Rating DESC\n",
        "\"\"\"\n",
        "\n",
        "result2 = graph.run(query2)\n",
        "for d in result2:\n",
        "    print(d)"
      ],
      "metadata": {
        "id": "t9bbIWtEa2Bh"
      },
      "execution_count": null,
      "outputs": []
    },
    {
      "cell_type": "markdown",
      "source": [
        "# 3. ¿Cuál es el tiempo total de pantalla de un usuario y qué plataforma de redes sociales tiene más tiempo de pantalla?"
      ],
      "metadata": {
        "id": "HZR_GLJedEJN"
      }
    },
    {
      "cell_type": "code",
      "source": [
        "query3 = \"\"\"\n",
        "MATCH (p:Person)-[r]->(s:Social_Media)\n",
        "RETURN DISTINCT p.name AS Name, s.title,SUM(r.screentime) AS Total\n",
        "ORDER BY Total DESC\n",
        "LIMIT 10\n",
        "\"\"\"\n",
        "\n",
        "result3 = graph.run(query3)\n",
        "\n",
        "df = pd.DataFrame(result3, columns = [\"User\", \"Social Media\", \"Screen Time\"])"
      ],
      "metadata": {
        "id": "4jYWu_NudKHF"
      },
      "execution_count": 18,
      "outputs": []
    },
    {
      "cell_type": "code",
      "source": [
        "df"
      ],
      "metadata": {
        "id": "69SlOXPa76Ny"
      },
      "execution_count": null,
      "outputs": []
    },
    {
      "source": [
        "from matplotlib import pyplot as plt\n",
        "import seaborn as sns\n",
        "df.groupby('Social Media').size().plot(kind='barh', color=sns.palettes.mpl_palette('Dark2'))\n",
        "plt.gca().spines[['top', 'right',]].set_visible(False)"
      ],
      "cell_type": "code",
      "metadata": {
        "id": "YNIOtjlL8SUh"
      },
      "execution_count": null,
      "outputs": []
    },
    {
      "cell_type": "markdown",
      "source": [
        "# 4. Encuentre a la persona mayor y a la persona más joven con su elección de redes sociales"
      ],
      "metadata": {
        "id": "xcwChviPdTrm"
      }
    },
    {
      "cell_type": "code",
      "source": [
        "\n",
        "query4 = \"\"\"\n",
        "MATCH (p:Person)-[r]->(s:Social_Media)\n",
        "SET p.Name = 'Persona mayor :'\n",
        "RETURN p.Name, p.name AS Name, 2022-p.dob AS Age, s.title\n",
        "ORDER BY Age DESC\n",
        "LIMIT 1\n",
        "UNION ALL\n",
        "MATCH (p:Person)-[r]->(s:Social_Media)\n",
        "SET p.Name = 'Persona más joven: '\n",
        "RETURN p.Name ,p.name AS Name, 2022-p.dob AS Age, s.title\n",
        "ORDER BY Age\n",
        "LIMIT 1\n",
        "\"\"\"\n",
        "\n",
        "result4 = graph.run(query4)\n",
        "for d in result4:\n",
        "    print(d)"
      ],
      "metadata": {
        "id": "0e3P0sRhdYPR"
      },
      "execution_count": null,
      "outputs": []
    },
    {
      "cell_type": "markdown",
      "source": [
        "# 5. Encuentre la cantidad de usuarios masculinos y femeninos de cada plataforma de redes sociales."
      ],
      "metadata": {
        "id": "4TkomuYxd3r1"
      }
    },
    {
      "cell_type": "code",
      "source": [
        "query5 = \"\"\"\n",
        "MATCH (p:Person)-[r]->(s:Social_Media)\n",
        "WHERE p.sex=\"Male\"\n",
        "SET p.surname = 'Hombre'\n",
        "RETURN s.title, COUNT(*),p.surname AS count\n",
        "ORDER BY count DESC\n",
        "UNION ALL\n",
        "MATCH (p:Person)-[r]->(s:Social_Media)\n",
        "WHERE p.sex=\"Female\"\n",
        "SET p.surname = 'Mujer'\n",
        "RETURN s.title, COUNT(*),p.surname AS count\n",
        "ORDER BY count DESC\n",
        "\"\"\"\n",
        "\n",
        "result5 = graph.run(query5)\n",
        "for d in result5:\n",
        "    print(d)"
      ],
      "metadata": {
        "id": "GSwB4jwad7-U"
      },
      "execution_count": null,
      "outputs": []
    }
  ]
}